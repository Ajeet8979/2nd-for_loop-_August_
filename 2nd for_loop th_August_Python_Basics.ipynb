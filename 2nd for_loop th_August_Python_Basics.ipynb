{
 "cells": [
  {
   "cell_type": "code",
   "execution_count": 7,
   "id": "3cbdae70-f3a5-4985-957e-75ea20af891c",
   "metadata": {},
   "outputs": [
    {
     "name": "stdout",
     "output_type": "stream",
     "text": [
      "1\n",
      "2\n",
      "3\n",
      "4\n",
      "5\n",
      "6\n",
      "7\n",
      "8\n",
      "9\n",
      "10\n"
     ]
    }
   ],
   "source": [
    "# ques 1 Write a Python program to print the numbers from 1 to 10 using a `for` loop.\n",
    "range(1,11)\n",
    "for i in range(1,11):\n",
    "    print(i)"
   ]
  },
  {
   "cell_type": "code",
   "execution_count": 19,
   "id": "c4f05a9d-97b9-4101-bda7-682eca280501",
   "metadata": {},
   "outputs": [
    {
     "data": {
      "text/plain": [
       "173"
      ]
     },
     "execution_count": 19,
     "metadata": {},
     "output_type": "execute_result"
    }
   ],
   "source": [
    "# ques 2 Create a program that calculates the sum of all numbers in a list using a `for` loop.\n",
    "l=[1,2,3,6,84,77]\n",
    "\n",
    "result=0\n",
    "for i in l:\n",
    "    result=result+i\n",
    "result\n"
   ]
  },
  {
   "cell_type": "code",
   "execution_count": 30,
   "id": "04d8191d-bd9a-4046-9c47-0e82842284ac",
   "metadata": {},
   "outputs": [
    {
     "name": "stdout",
     "output_type": "stream",
     "text": [
      "Reverse String using for loop = teeja\n"
     ]
    }
   ],
   "source": [
    "# ques 3 Write a program to print the characters of a string in reverse order using a `for` loop.\n",
    "def reverse_for_loop(s):\n",
    "    s1 = ''\n",
    "    for c in s:\n",
    "        s1 = c + s1  # appending chars in reverse order\n",
    "    return s1\n",
    "\n",
    "input_str = 'ajeet'\n",
    "\n",
    "if __name__ == \"__main__\":\n",
    "    print('Reverse String using for loop =', reverse_for_loop(input_str))"
   ]
  },
  {
   "cell_type": "code",
   "execution_count": 32,
   "id": "e85492bd-6966-479f-881b-3978d59dab34",
   "metadata": {},
   "outputs": [
    {
     "name": "stdout",
     "output_type": "stream",
     "text": [
      "The factorial of 10 is: 3628800\n"
     ]
    }
   ],
   "source": [
    "# ques 4 \n",
    "def factorial(n):\n",
    "    if n < 0:\n",
    "        return \"Factorial is not defined for negative numbers\"\n",
    "    elif n == 0 or n == 1:\n",
    "        return 1\n",
    "    else:\n",
    "        result = 1\n",
    "        for i in range(1, n + 1):\n",
    "            result *= i\n",
    "        return result\n",
    "\n",
    "# Example usage\n",
    "number = 10\n",
    "print(f\"The factorial of {number} is: {factorial(number)}\")"
   ]
  },
  {
   "cell_type": "code",
   "execution_count": 33,
   "id": "b6bc1fd8-0553-4ba7-8c0a-53097e335d44",
   "metadata": {},
   "outputs": [
    {
     "name": "stdout",
     "output_type": "stream",
     "text": [
      "Multiplication table for 7:\n",
      "7 x 1 = 7\n",
      "7 x 2 = 14\n",
      "7 x 3 = 21\n",
      "7 x 4 = 28\n",
      "7 x 5 = 35\n",
      "7 x 6 = 42\n",
      "7 x 7 = 49\n",
      "7 x 8 = 56\n",
      "7 x 9 = 63\n",
      "7 x 10 = 70\n"
     ]
    }
   ],
   "source": [
    "# ques 5 Create a program to print the multiplication table of a given number using a `for` loop.\n",
    "\n",
    "def print_multiplication_table(number):\n",
    "    for i in range(1, 11):  # Multiplication table from 1 to 10\n",
    "        print(f\"{number} x {i} = {number * i}\")\n",
    "\n",
    "# Example usage\n",
    "number = 7  # You can change this to any number you want\n",
    "print(f\"Multiplication table for {number}:\")\n",
    "print_multiplication_table(number)"
   ]
  },
  {
   "cell_type": "code",
   "execution_count": 36,
   "id": "be10db7c-bdf8-4b7e-86cb-3151ec872cf9",
   "metadata": {},
   "outputs": [
    {
     "name": "stdout",
     "output_type": "stream",
     "text": [
      "Numbers in the list: [6, 3, 8, 14, 5, 6, 7, 24, 9]\n",
      "Count of even numbers: 5\n",
      "Count of odd numbers: 4\n"
     ]
    }
   ],
   "source": [
    "# ques 6 \n",
    "def count_even_odd(numbers_list):\n",
    "    even_count = 0\n",
    "    odd_count = 0\n",
    "\n",
    "    for num in numbers_list:\n",
    "        if num % 2 == 0:\n",
    "            even_count += 1\n",
    "        else:\n",
    "            odd_count += 1\n",
    "\n",
    "    return even_count, odd_count\n",
    "\n",
    "# Example usage\n",
    "numbers_list = [6, 3, 8, 14, 5, 6, 7, 24, 9]\n",
    "even_count, odd_count = count_even_odd(numbers_list)\n",
    "\n",
    "print(\"Numbers in the list:\", numbers_list)\n",
    "print(\"Count of even numbers:\", even_count)\n",
    "print(\"Count of odd numbers:\", odd_count)"
   ]
  },
  {
   "cell_type": "code",
   "execution_count": 38,
   "id": "0f2530cf-e3e0-4b4b-9048-c49a8f8994fa",
   "metadata": {},
   "outputs": [
    {
     "name": "stdout",
     "output_type": "stream",
     "text": [
      "Squares of numbers from 2 to 9:\n",
      "The square of 2 is: 4\n",
      "The square of 3 is: 9\n",
      "The square of 4 is: 16\n",
      "The square of 5 is: 25\n",
      "The square of 6 is: 36\n",
      "The square of 7 is: 49\n",
      "The square of 8 is: 64\n"
     ]
    }
   ],
   "source": [
    "# ques 7\n",
    "def print_squares():\n",
    "    for i in range(2, 9):\n",
    "        square = i ** 2\n",
    "        print(f\"The square of {i} is: {square}\")\n",
    "\n",
    "# Example usage\n",
    "print(\"Squares of numbers from 2 to 9:\")\n",
    "print_squares()"
   ]
  },
  {
   "cell_type": "code",
   "execution_count": 41,
   "id": "e07de10d-7c55-4511-b23b-ca5ec339997e",
   "metadata": {},
   "outputs": [
    {
     "name": "stdout",
     "output_type": "stream",
     "text": [
      "The length of the string is: 13\n"
     ]
    }
   ],
   "source": [
    "# ques 8 \n",
    "def find_length_of_string(input_string):\n",
    "    count = 0\n",
    "\n",
    "    for char in input_string:\n",
    "        count += 1\n",
    "\n",
    "    return count\n",
    "\n",
    "# Example usage\n",
    "input_string = \"ajeet, singh!\"\n",
    "length = find_length_of_string(input_string)\n",
    "print(f\"The length of the string is: {length}\")"
   ]
  },
  {
   "cell_type": "code",
   "execution_count": 43,
   "id": "fc459161-eb8c-45d1-a3de-0d2f6fe88db0",
   "metadata": {},
   "outputs": [
    {
     "name": "stdout",
     "output_type": "stream",
     "text": [
      "Numbers in the list: [50, 80, 930, 10, 40]\n",
      "Average: 222.0\n"
     ]
    }
   ],
   "source": [
    "# ques 9 \n",
    "def calculate_average(numbers_list):\n",
    "    if not numbers_list:\n",
    "        return \"The list is empty.\"\n",
    "\n",
    "    total_sum = 0\n",
    "    num_count = 0\n",
    "\n",
    "    for num in numbers_list:\n",
    "        total_sum += num\n",
    "        num_count += 1\n",
    "\n",
    "    average = total_sum / num_count\n",
    "    return average\n",
    "\n",
    "# Example usage\n",
    "numbers_list = [50, 80,930, 10, 40]\n",
    "average = calculate_average(numbers_list)\n",
    "\n",
    "print(\"Numbers in the list:\", numbers_list)\n",
    "print(\"Average:\", average)"
   ]
  },
  {
   "cell_type": "code",
   "execution_count": 44,
   "id": "1dcde00a-b10b-4fc5-9012-0f350a4f6694",
   "metadata": {},
   "outputs": [
    {
     "name": "stdout",
     "output_type": "stream",
     "text": [
      "The first 10 Fibonacci numbers:\n",
      "0 1 1 2 3 5 8 13 21 34 "
     ]
    }
   ],
   "source": [
    "# ques 10 \n",
    "def print_fibonacci(n):\n",
    "    if n <= 0:\n",
    "        print(\"Please enter a positive integer.\")\n",
    "        return\n",
    "\n",
    "    fibonacci_sequence = []\n",
    "    if n >= 1:\n",
    "        fibonacci_sequence.append(0)\n",
    "    if n >= 2:\n",
    "        fibonacci_sequence.append(1)\n",
    "\n",
    "    for i in range(2, n):\n",
    "        next_fibonacci = fibonacci_sequence[-1] + fibonacci_sequence[-2]\n",
    "        fibonacci_sequence.append(next_fibonacci)\n",
    "\n",
    "    print(f\"The first {n} Fibonacci numbers:\")\n",
    "    for num in fibonacci_sequence:\n",
    "        print(num, end=\" \")\n",
    "\n",
    "# Example usage\n",
    "n = 10  # Change this to generate a different number of Fibonacci numbers\n",
    "print_fibonacci(n)"
   ]
  },
  {
   "cell_type": "code",
   "execution_count": 45,
   "id": "6b344b72-b691-4846-a27d-15ebd2162ec0",
   "metadata": {},
   "outputs": [],
   "source": [
    "# intermediate level"
   ]
  },
  {
   "cell_type": "code",
   "execution_count": 46,
   "id": "8d9c3592-c3e9-4c35-8327-74dd71dd8ae4",
   "metadata": {},
   "outputs": [
    {
     "name": "stdout",
     "output_type": "stream",
     "text": [
      "List 1: [1, 2, 3, 4, 5]\n",
      "Has duplicates: False\n",
      "\n",
      "List 2: [1, 2, 3, 2, 4]\n",
      "Has duplicates: True\n"
     ]
    }
   ],
   "source": [
    "# ques 11  Write a program to check if a given list contains any duplicates using a `for` loop.\n",
    "def has_duplicates(nums_list):\n",
    "    seen_numbers = set()\n",
    "\n",
    "    for num in nums_list:\n",
    "        if num in seen_numbers:\n",
    "            return True\n",
    "        seen_numbers.add(num)\n",
    "\n",
    "    return False\n",
    "\n",
    "# Example usage\n",
    "numbers_list1 = [1, 2, 3, 4, 5]\n",
    "numbers_list2 = [1, 2, 3, 2, 4]\n",
    "\n",
    "print(\"List 1:\", numbers_list1)\n",
    "print(\"Has duplicates:\", has_duplicates(numbers_list1))\n",
    "\n",
    "print(\"\\nList 2:\", numbers_list2)\n",
    "print(\"Has duplicates:\", has_duplicates(numbers_list2))"
   ]
  },
  {
   "cell_type": "code",
   "execution_count": 47,
   "id": "eaaa61c1-a968-452a-bc8e-722cc91e5654",
   "metadata": {},
   "outputs": [
    {
     "name": "stdout",
     "output_type": "stream",
     "text": [
      "Prime numbers in the range 10 to 30:\n",
      "11 13 17 19 23 29 "
     ]
    }
   ],
   "source": [
    "# ques 12 \n",
    "def is_prime(num):\n",
    "    if num < 2:\n",
    "        return False\n",
    "    for i in range(2, int(num ** 0.5) + 1):\n",
    "        if num % i == 0:\n",
    "            return False\n",
    "    return True\n",
    "\n",
    "def print_primes_in_range(start, end):\n",
    "    print(f\"Prime numbers in the range {start} to {end}:\")\n",
    "    for num in range(start, end + 1):\n",
    "        if is_prime(num):\n",
    "            print(num, end=\" \")\n",
    "\n",
    "# Example usage\n",
    "start_range = 10\n",
    "end_range = 30\n",
    "print_primes_in_range(start_range, end_range)"
   ]
  },
  {
   "cell_type": "code",
   "execution_count": 48,
   "id": "62b82904-c1ee-4f7e-974a-ad15f7549f6c",
   "metadata": {},
   "outputs": [
    {
     "name": "stdout",
     "output_type": "stream",
     "text": [
      "Input string: Hello, world!\n",
      "Number of vowels: 3\n"
     ]
    }
   ],
   "source": [
    "# ques 13 \n",
    "def count_vowels(input_string):\n",
    "    vowels = \"aeiouAEIOU\"\n",
    "    count = 0\n",
    "\n",
    "    for char in input_string:\n",
    "        if char in vowels:\n",
    "            count += 1\n",
    "\n",
    "    return count\n",
    "\n",
    "# Example usage\n",
    "input_string = \"Hello, world!\"\n",
    "vowel_count = count_vowels(input_string)\n",
    "\n",
    "print(\"Input string:\", input_string)\n",
    "print(\"Number of vowels:\", vowel_count)"
   ]
  },
  {
   "cell_type": "code",
   "execution_count": 49,
   "id": "e2d8639c-3118-4514-8226-aac98409a6f1",
   "metadata": {},
   "outputs": [
    {
     "name": "stdout",
     "output_type": "stream",
     "text": [
      "2D List:\n",
      "[1, 3, 5]\n",
      "[7, 9, 11]\n",
      "[2, 4, 6]\n",
      "Maximum element: 11\n"
     ]
    }
   ],
   "source": [
    "# ques 14 Write a program to find the maximum element in a 2D list using a nested `for` loop.\n",
    "def find_max_2d(lst_2d):\n",
    "    if not lst_2d:\n",
    "        return None\n",
    "\n",
    "    max_element = float('-inf')\n",
    "\n",
    "    for row in lst_2d:\n",
    "        for element in row:\n",
    "            if element > max_element:\n",
    "                max_element = element\n",
    "\n",
    "    return max_element\n",
    "\n",
    "# Example usage\n",
    "two_dimensional_list = [\n",
    "    [1, 3, 5],\n",
    "    [7, 9, 11],\n",
    "    [2, 4, 6]\n",
    "]\n",
    "\n",
    "max_element = find_max_2d(two_dimensional_list)\n",
    "print(\"2D List:\")\n",
    "for row in two_dimensional_list:\n",
    "    print(row)\n",
    "print(\"Maximum element:\", max_element)"
   ]
  },
  {
   "cell_type": "code",
   "execution_count": 50,
   "id": "dc1bf4d9-de83-4a66-9e3d-ba6efbc49ff6",
   "metadata": {},
   "outputs": [
    {
     "name": "stdout",
     "output_type": "stream",
     "text": [
      "Original list: [1, 2, 3, 2, 4, 2, 5]\n",
      "Updated list after removing 2 : [1, 3, 4, 5]\n"
     ]
    }
   ],
   "source": [
    "# ques 15 Create a program that removes all occurrences of a specific element from a list using a `for` loop.\n",
    "def remove_occurrences(lst, element):\n",
    "    updated_list = [item for item in lst if item != element]\n",
    "    return updated_list\n",
    "\n",
    "# Example usage\n",
    "original_list = [1, 2, 3, 2, 4, 2, 5]\n",
    "element_to_remove = 2\n",
    "\n",
    "print(\"Original list:\", original_list)\n",
    "updated_list = remove_occurrences(original_list, element_to_remove)\n",
    "print(\"Updated list after removing\", element_to_remove, \":\", updated_list)"
   ]
  },
  {
   "cell_type": "code",
   "execution_count": 51,
   "id": "34c12a19-8525-4f39-bdde-629079818ee3",
   "metadata": {},
   "outputs": [
    {
     "name": "stdout",
     "output_type": "stream",
     "text": [
      "Multiplication table for 1:\n",
      "1 x 1 = 1\n",
      "1 x 2 = 2\n",
      "1 x 3 = 3\n",
      "1 x 4 = 4\n",
      "1 x 5 = 5\n",
      "1 x 6 = 6\n",
      "1 x 7 = 7\n",
      "1 x 8 = 8\n",
      "1 x 9 = 9\n",
      "1 x 10 = 10\n",
      "\n",
      "Multiplication table for 2:\n",
      "2 x 1 = 2\n",
      "2 x 2 = 4\n",
      "2 x 3 = 6\n",
      "2 x 4 = 8\n",
      "2 x 5 = 10\n",
      "2 x 6 = 12\n",
      "2 x 7 = 14\n",
      "2 x 8 = 16\n",
      "2 x 9 = 18\n",
      "2 x 10 = 20\n",
      "\n",
      "Multiplication table for 3:\n",
      "3 x 1 = 3\n",
      "3 x 2 = 6\n",
      "3 x 3 = 9\n",
      "3 x 4 = 12\n",
      "3 x 5 = 15\n",
      "3 x 6 = 18\n",
      "3 x 7 = 21\n",
      "3 x 8 = 24\n",
      "3 x 9 = 27\n",
      "3 x 10 = 30\n",
      "\n",
      "Multiplication table for 4:\n",
      "4 x 1 = 4\n",
      "4 x 2 = 8\n",
      "4 x 3 = 12\n",
      "4 x 4 = 16\n",
      "4 x 5 = 20\n",
      "4 x 6 = 24\n",
      "4 x 7 = 28\n",
      "4 x 8 = 32\n",
      "4 x 9 = 36\n",
      "4 x 10 = 40\n",
      "\n",
      "Multiplication table for 5:\n",
      "5 x 1 = 5\n",
      "5 x 2 = 10\n",
      "5 x 3 = 15\n",
      "5 x 4 = 20\n",
      "5 x 5 = 25\n",
      "5 x 6 = 30\n",
      "5 x 7 = 35\n",
      "5 x 8 = 40\n",
      "5 x 9 = 45\n",
      "5 x 10 = 50\n",
      "\n"
     ]
    }
   ],
   "source": [
    "# ques 16 Develop a program that generates a multiplication table for numbers from 1 to 5 using a nested `for` loop.\n",
    "def generate_multiplication_table():\n",
    "    for i in range(1, 6):\n",
    "        print(f\"Multiplication table for {i}:\")\n",
    "        for j in range(1, 11):\n",
    "            result = i * j\n",
    "            print(f\"{i} x {j} = {result}\")\n",
    "        print()  # Add a blank line after each table\n",
    "\n",
    "# Example usage\n",
    "generate_multiplication_table()"
   ]
  },
  {
   "cell_type": "code",
   "execution_count": 52,
   "id": "936be03b-3771-4487-81f4-c2579ca3a85a",
   "metadata": {},
   "outputs": [
    {
     "name": "stdout",
     "output_type": "stream",
     "text": [
      "Fahrenheit Temperatures: [98.6, 100.4, 212.0, 32.0]\n",
      "Celsius Temperatures: [37.0, 38.0, 100.0, 0.0]\n"
     ]
    }
   ],
   "source": [
    "# ques 17 Write a program that converts a list of Fahrenheit temperatures to Celsius using a `for` loop.\n",
    "def fahrenheit_to_celsius(fahrenheit_list):\n",
    "    celsius_list = []\n",
    "\n",
    "    for fahrenheit in fahrenheit_list:\n",
    "        celsius = (fahrenheit - 32) * 5 / 9\n",
    "        celsius_list.append(celsius)\n",
    "\n",
    "    return celsius_list\n",
    "\n",
    "# Example usage\n",
    "fahrenheit_temperatures = [98.6, 100.4, 212.0, 32.0]\n",
    "celsius_temperatures = fahrenheit_to_celsius(fahrenheit_temperatures)\n",
    "\n",
    "print(\"Fahrenheit Temperatures:\", fahrenheit_temperatures)\n",
    "print(\"Celsius Temperatures:\", celsius_temperatures)"
   ]
  },
  {
   "cell_type": "code",
   "execution_count": 53,
   "id": "6ca5c4a7-90a8-4691-9e95-4dbbac520e0a",
   "metadata": {},
   "outputs": [
    {
     "name": "stdout",
     "output_type": "stream",
     "text": [
      "List 1: [1, 2, 3, 4, 5]\n",
      "List 2: [3, 4, 5, 6, 7]\n",
      "Common elements: [3, 4, 5]\n"
     ]
    }
   ],
   "source": [
    "# ques 18 \n",
    "def find_common_elements(list1, list2):\n",
    "    common_elements = []\n",
    "\n",
    "    for item1 in list1:\n",
    "        if item1 in list2:\n",
    "            common_elements.append(item1)\n",
    "\n",
    "    return common_elements\n",
    "\n",
    "# Example usage\n",
    "list1 = [1, 2, 3, 4, 5]\n",
    "list2 = [3, 4, 5, 6, 7]\n",
    "\n",
    "common_elements = find_common_elements(list1, list2)\n",
    "print(\"List 1:\", list1)\n",
    "print(\"List 2:\", list2)\n",
    "print(\"Common elements:\", common_elements)"
   ]
  },
  {
   "cell_type": "code",
   "execution_count": 54,
   "id": "2b2702ff-08a9-45d1-aa87-5aaa6efc3cc2",
   "metadata": {},
   "outputs": [
    {
     "name": "stdout",
     "output_type": "stream",
     "text": [
      "Right-angled triangle pattern with 5 rows:\n",
      "*\n",
      "**\n",
      "***\n",
      "****\n",
      "*****\n"
     ]
    }
   ],
   "source": [
    "# ques 19 \n",
    "def print_right_angle_triangle(rows):\n",
    "    for i in range(1, rows + 1):\n",
    "        for j in range(i):\n",
    "            print('*', end='')\n",
    "        print()\n",
    "\n",
    "# Example usage\n",
    "triangle_rows = 5\n",
    "print(f\"Right-angled triangle pattern with {triangle_rows} rows:\")\n",
    "print_right_angle_triangle(triangle_rows)"
   ]
  },
  {
   "cell_type": "code",
   "execution_count": 57,
   "id": "b29dd8e6-2920-4f66-acc1-11583fc8272f",
   "metadata": {},
   "outputs": [
    {
     "name": "stdout",
     "output_type": "stream",
     "text": [
      "The GCD of 24 and 36 is: 12\n"
     ]
    }
   ],
   "source": [
    "# ques 20 Write a program to find the greatest common divisor (GCD) of two numbers using a `for` loop.\n",
    "def calculate_gcd(a, b):\n",
    "    # Ensure a is greater than or equal to b\n",
    "    if a < b:\n",
    "        a, b = b, a\n",
    "\n",
    "    # Find the GCD using the Euclidean algorithm\n",
    "    while b:\n",
    "        a, b = b, a % b\n",
    "\n",
    "    return a\n",
    "\n",
    "# Example usage\n",
    "num1 = 24\n",
    "num2 = 36\n",
    "\n",
    "gcd = calculate_gcd(num1, num2)\n",
    "print(f\"The GCD of {num1} and {num2} is: {gcd}\")"
   ]
  },
  {
   "cell_type": "code",
   "execution_count": 58,
   "id": "ff878362-0e7c-45c5-a312-80a2c5329b16",
   "metadata": {},
   "outputs": [],
   "source": [
    "# challenging level"
   ]
  },
  {
   "cell_type": "code",
   "execution_count": 59,
   "id": "845eeb65-e80f-4404-88f1-3f3471775e75",
   "metadata": {},
   "outputs": [
    {
     "name": "stdout",
     "output_type": "stream",
     "text": [
      "Prime numbers up to 50:\n",
      "[2, 3, 5, 7, 11, 13, 17, 19, 23, 29, 31, 37, 41, 43, 47]\n"
     ]
    }
   ],
   "source": [
    "# ques 31 \n",
    "def sieve_of_eratosthenes(n):\n",
    "    # Create a boolean list \"prime[0..n]\" and initialize all entries as true\n",
    "    prime = [True for _ in range(n+1)]\n",
    "    p = 2\n",
    "    while p * p <= n:\n",
    "        if prime[p]:\n",
    "            for i in range(p * p, n+1, p):\n",
    "                prime[i] = False\n",
    "        p += 1\n",
    "\n",
    "    # Create a list of prime numbers\n",
    "    primes = [p for p in range(2, n+1) if prime[p]]\n",
    "    return primes\n",
    "\n",
    "# Example usage\n",
    "n = 50  # Change this to generate primes up to a different number\n",
    "prime_list = sieve_of_eratosthenes(n)\n",
    "print(f\"Prime numbers up to {n}:\")\n",
    "print(prime_list)"
   ]
  },
  {
   "cell_type": "code",
   "execution_count": 60,
   "id": "547284df-1931-4c15-aace-cb6fe502a225",
   "metadata": {},
   "outputs": [
    {
     "name": "stdout",
     "output_type": "stream",
     "text": [
      "Pythagorean triplets up to 20:\n",
      "[(3, 4, 5), (5, 12, 13), (6, 8, 10), (8, 15, 17), (9, 12, 15), (12, 16, 20)]\n"
     ]
    }
   ],
   "source": [
    "# ques 32\n",
    "def generate_pythagorean_triplets(limit):\n",
    "    triplets = [(a, b, c) for a in range(1, limit+1)\n",
    "                            for b in range(a, limit+1)\n",
    "                            for c in range(b, limit+1)\n",
    "                            if a**2 + b**2 == c**2]\n",
    "    return triplets\n",
    "\n",
    "# Example usage\n",
    "limit = 20  # Change this to generate Pythagorean triplets up to a different limit\n",
    "pythagorean_triplets = generate_pythagorean_triplets(limit)\n",
    "print(f\"Pythagorean triplets up to {limit}:\")\n",
    "print(pythagorean_triplets)"
   ]
  },
  {
   "cell_type": "code",
   "execution_count": 61,
   "id": "3599cf1a-ec30-43dc-a8da-1635edc67d15",
   "metadata": {},
   "outputs": [
    {
     "name": "stdout",
     "output_type": "stream",
     "text": [
      "All possible combinations:\n",
      "[(1, 'a'), (1, 'b'), (1, 'c'), (2, 'a'), (2, 'b'), (2, 'c'), (3, 'a'), (3, 'b'), (3, 'c')]\n"
     ]
    }
   ],
   "source": [
    "# ques 33\n",
    "def generate_combinations(list1, list2):\n",
    "    combinations = [(x, y) for x in list1 for y in list2]\n",
    "    return combinations\n",
    "\n",
    "# Example usage\n",
    "list1 = [1, 2, 3]\n",
    "list2 = ['a', 'b', 'c']\n",
    "all_combinations = generate_combinations(list1, list2)\n",
    "print(\"All possible combinations:\")\n",
    "print(all_combinations)"
   ]
  },
  {
   "cell_type": "code",
   "execution_count": 62,
   "id": "4d3e8442-eb90-46e8-881e-055128700715",
   "metadata": {},
   "outputs": [
    {
     "name": "stdout",
     "output_type": "stream",
     "text": [
      "Original list: [1, 2, 3, 4, 5, 5, 6, 6, 6]\n",
      "Mean: 4.222222222222222\n",
      "Median: 5\n",
      "Mode: [6]\n"
     ]
    }
   ],
   "source": [
    "# ques 34\n",
    "from collections import Counter\n",
    "import statistics\n",
    "\n",
    "def calculate_mean(numbers):\n",
    "    return sum(numbers) / len(numbers) if numbers else None\n",
    "\n",
    "def calculate_median(numbers):\n",
    "    return statistics.median(numbers) if numbers else None\n",
    "\n",
    "def calculate_mode(numbers):\n",
    "    counts = Counter(numbers)\n",
    "    max_count = max(counts.values())\n",
    "    mode = [num for num, count in counts.items() if count == max_count]\n",
    "    return mode\n",
    "\n",
    "# Example usage\n",
    "number_list = [1, 2, 3, 4, 5, 5, 6, 6, 6]\n",
    "print(\"Original list:\", number_list)\n",
    "\n",
    "mean = calculate_mean(number_list)\n",
    "print(\"Mean:\", mean)\n",
    "\n",
    "median = calculate_median(number_list)\n",
    "print(\"Median:\", median)\n",
    "\n",
    "mode = calculate_mode(number_list)\n",
    "print(\"Mode:\", mode)\n"
   ]
  },
  {
   "cell_type": "code",
   "execution_count": 63,
   "id": "19645368-326e-4960-9321-47088b652442",
   "metadata": {},
   "outputs": [
    {
     "name": "stdout",
     "output_type": "stream",
     "text": [
      "Pascal's triangle with 5 rows:\n",
      "       1       \n",
      "      1 1      \n",
      "     1 2 1     \n",
      "    1 3 3 1    \n",
      "   1 4 6 4 1   \n"
     ]
    }
   ],
   "source": [
    "# ques 35 \n",
    "def generate_pascals_triangle(num_rows):\n",
    "    triangle = [[1] * (i + 1) for i in range(num_rows)]\n",
    "    \n",
    "    for i in range(2, num_rows):\n",
    "        for j in range(1, i):\n",
    "            triangle[i][j] = triangle[i-1][j-1] + triangle[i-1][j]\n",
    "    \n",
    "    return triangle\n",
    "\n",
    "def print_pascals_triangle(triangle):\n",
    "    for row in triangle:\n",
    "        print(' '.join(map(str, row)).center(len(triangle) * 3))\n",
    "\n",
    "# Example usage\n",
    "num_rows = 5  # Change this to generate a different number of rows\n",
    "pascals_triangle = generate_pascals_triangle(num_rows)\n",
    "print(f\"Pascal's triangle with {num_rows} rows:\")\n",
    "print_pascals_triangle(pascals_triangle)"
   ]
  },
  {
   "cell_type": "code",
   "execution_count": 64,
   "id": "27a06c1d-2a1f-4535-9754-7a4583be27df",
   "metadata": {},
   "outputs": [
    {
     "name": "stdout",
     "output_type": "stream",
     "text": [
      "Factorial of 1 is: 1, Sum of its digits: 1\n",
      "Factorial of 2 is: 2, Sum of its digits: 2\n",
      "Factorial of 3 is: 6, Sum of its digits: 6\n",
      "Factorial of 4 is: 24, Sum of its digits: 6\n",
      "Factorial of 5 is: 120, Sum of its digits: 3\n"
     ]
    }
   ],
   "source": [
    "# ques 36 \n",
    "import math\n",
    "\n",
    "def calculate_factorial(num):\n",
    "    return math.factorial(num)\n",
    "\n",
    "def calculate_digit_sum(factorial_result):\n",
    "    return sum(int(digit) for digit in str(factorial_result))\n",
    "\n",
    "# Example usage\n",
    "nums = [1, 2, 3, 4, 5]\n",
    "\n",
    "for num in nums:\n",
    "    factorial_result = calculate_factorial(num)\n",
    "    digit_sum = calculate_digit_sum(factorial_result)\n",
    "    print(f\"Factorial of {num} is: {factorial_result}, Sum of its digits: {digit_sum}\")\n"
   ]
  },
  {
   "cell_type": "code",
   "execution_count": 65,
   "id": "6088cf0b-b7fb-4db5-83ff-cf92ff7592ac",
   "metadata": {},
   "outputs": [
    {
     "name": "stdout",
     "output_type": "stream",
     "text": [
      "The longest word in the sentence is: quick\n"
     ]
    }
   ],
   "source": [
    "# ques 37 \n",
    "def find_longest_word(sentence):\n",
    "    words = sentence.split()\n",
    "    longest_word = max(words, key=len)\n",
    "    return longest_word\n",
    "\n",
    "# Example usage\n",
    "sentence = \"The quick brown fox jumps over the lazy dog\"\n",
    "longest_word = find_longest_word(sentence)\n",
    "print(f\"The longest word in the sentence is: {longest_word}\")\n"
   ]
  },
  {
   "cell_type": "code",
   "execution_count": 66,
   "id": "a093bab5-f5b5-4005-93c6-18395639becf",
   "metadata": {},
   "outputs": [
    {
     "name": "stdout",
     "output_type": "stream",
     "text": [
      "Original list: ['hello', 'world', 'example', 'programming', 'Python', 'vowels']\n",
      "Filtered list (more than 3 vowels): []\n"
     ]
    }
   ],
   "source": [
    "# ques 38 \n",
    "def count_vowels(word):\n",
    "    vowels = \"aeiouAEIOU\"\n",
    "    return sum(1 for char in word if char in vowels)\n",
    "\n",
    "def filter_strings_by_vowels(string_list):\n",
    "    return [word for word in string_list if count_vowels(word) > 3]\n",
    "\n",
    "# Example usage\n",
    "string_list = [\"hello\", \"world\", \"example\", \"programming\", \"Python\", \"vowels\"]\n",
    "filtered_list = filter_strings_by_vowels(string_list)\n",
    "\n",
    "print(\"Original list:\", string_list)\n",
    "print(\"Filtered list (more than 3 vowels):\", filtered_list)\n"
   ]
  },
  {
   "cell_type": "code",
   "execution_count": 67,
   "id": "1bb1c725-9ab6-4e7f-9797-3c86b6107803",
   "metadata": {},
   "outputs": [
    {
     "name": "stdout",
     "output_type": "stream",
     "text": [
      "Sum of the digits of numbers from 1 to 1000: 13501\n"
     ]
    }
   ],
   "source": [
    "# ques 39 \n",
    "def calculate_digit_sum(number):\n",
    "    return sum(int(digit) for digit in str(number))\n",
    "\n",
    "# Calculate the sum of the digits for numbers from 1 to 1000\n",
    "digit_sums = [calculate_digit_sum(num) for num in range(1, 1001)]\n",
    "\n",
    "# Calculate the total sum of the digit sums\n",
    "total_sum = sum(digit_sums)\n",
    "\n",
    "print(\"Sum of the digits of numbers from 1 to 1000:\", total_sum)\n"
   ]
  },
  {
   "cell_type": "code",
   "execution_count": 68,
   "id": "f6313b8d-b852-4fc8-b14c-bb4388c8b91d",
   "metadata": {},
   "outputs": [
    {
     "name": "stdout",
     "output_type": "stream",
     "text": [
      "Prime palindromic numbers up to 1000:\n",
      "[2, 3, 5, 7, 11, 101, 131, 151, 181, 191, 313, 353, 373, 383, 727, 757, 787, 797, 919, 929]\n"
     ]
    }
   ],
   "source": [
    "# ques 40 \n",
    "def is_prime(num):\n",
    "    if num < 2:\n",
    "        return False\n",
    "    for i in range(2, int(num ** 0.5) + 1):\n",
    "        if num % i == 0:\n",
    "            return False\n",
    "    return True\n",
    "\n",
    "def is_palindromic(num):\n",
    "    str_num = str(num)\n",
    "    return str_num == str_num[::-1]\n",
    "\n",
    "# Generate a list of prime palindromic numbers using list comprehension\n",
    "prime_palindromic_numbers = [num for num in range(1000) if is_prime(num) and is_palindromic(num)]\n",
    "\n",
    "print(\"Prime palindromic numbers up to 1000:\")\n",
    "print(prime_palindromic_numbers)\n"
   ]
  },
  {
   "cell_type": "code",
   "execution_count": null,
   "id": "0716c6e1-97fa-4e99-89d4-7a4b787562e2",
   "metadata": {},
   "outputs": [],
   "source": []
  }
 ],
 "metadata": {
  "kernelspec": {
   "display_name": "Python 3 (ipykernel)",
   "language": "python",
   "name": "python3"
  },
  "language_info": {
   "codemirror_mode": {
    "name": "ipython",
    "version": 3
   },
   "file_extension": ".py",
   "mimetype": "text/x-python",
   "name": "python",
   "nbconvert_exporter": "python",
   "pygments_lexer": "ipython3",
   "version": "3.10.8"
  }
 },
 "nbformat": 4,
 "nbformat_minor": 5
}
